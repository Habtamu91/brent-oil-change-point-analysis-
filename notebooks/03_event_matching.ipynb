{
 "cells": [
  {
   "cell_type": "code",
   "execution_count": null,
   "id": "3be3bbcf-f413-41a3-9285-51ae08fc7068",
   "metadata": {},
   "outputs": [],
   "source": [
    "import pandas as pd\n",
    "import numpy as np\n",
    "import matplotlib.pyplot as plt\n",
    "from datetime import timedelta\n",
    "\n",
    "# Load data\n",
    "prices = pd.read_csv('../data/BrentOilPrices.csv', parse_dates=['Date'])\n",
    "events = pd.read_csv('../data/events.csv', parse_dates=['Date'])\n",
    "change_points = pd.DataFrame([\n",
    "    {'date': '2008-09-15', 'index': 5345, 'mean_before': 85.2, 'mean_after': 45.7, 'pct_change': -46.4},\n",
    "    {'date': '2020-03-11', 'index': 8370, 'mean_before': 62.3, 'mean_after': 28.1, 'pct_change': -54.9},\n",
    "    {'date': '2014-06-01', 'index': 6900, 'mean_before': 108.5, 'mean_after': 62.8, 'pct_change': -42.1},\n",
    "    {'date': '1990-08-02', 'index': 820, 'mean_before': 18.2, 'mean_after': 22.4, 'pct_change': 23.1},\n",
    "    {'date': '2016-11-30', 'index': 7520, 'mean_before': 46.2, 'mean_after': 62.5, 'pct_change': 35.3}\n",
    "])\n",
    "change_points['date'] = pd.to_datetime(change_points['date'])\n"
   ]
  },
  {
   "cell_type": "code",
   "execution_count": null,
   "id": "4f2dd071-9c57-40c3-8305-b5d86ec44324",
   "metadata": {},
   "outputs": [],
   "source": [
    "# Match change points with events within a 30-day window\n",
    "matches = []\n",
    "for _, cp in change_points.iterrows():\n",
    "    for _, event in events.iterrows():\n",
    "        if abs((cp['date'] - event['Date']).days) <= 30:\n",
    "            matches.append({\n",
    "                'change_point_date': cp['date'],\n",
    "                'event_date': event['Date'],\n",
    "                'event_name': event['Event'],\n",
    "                'days_diff': (cp['date'] - event['Date']).days,\n",
    "                'price_change_pct': cp['pct_change']\n",
    "            })\n",
    "\n",
    "matches_df = pd.DataFrame(matches)\n",
    "\n",
    "# Display matches\n",
    "print(\"Detected Change Points with Matching Events:\")\n",
    "print(matches_df)\n"
   ]
  },
  {
   "cell_type": "code",
   "execution_count": null,
   "id": "43d25282-a027-409b-82ce-480047b1fd69",
   "metadata": {},
   "outputs": [],
   "source": [
    "# Visualization\n",
    "plt.figure(figsize=(14, 7))\n",
    "plt.plot(prices['Date'], prices['Price'], label='Brent Oil Price')\n",
    "\n",
    "# Plot change points\n",
    "for _, cp in change_points.iterrows():\n",
    "    plt.axvline(cp['date'], color='orange', linestyle='--', alpha=0.7)\n",
    "    plt.text(cp['date'], plt.ylim()[1]*0.85, f\"CP: {cp['date'].strftime('%Y-%m-%d')}\\n({cp['pct_change']:.1f}%)\", \n",
    "             rotation=90, color='orange')\n",
    "\n",
    "# Plot events\n",
    "for _, event in events.iterrows():\n",
    "    plt.axvline(event['Date'], color='red', linestyle=':', alpha=0.5)\n",
    "    plt.text(event['Date'], plt.ylim()[1]*0.95, event['Event'], rotation=90, color='red', fontsize=8)\n",
    "\n",
    "plt.title('Brent Oil Price with Change Points and Events')\n",
    "plt.xlabel('Date')\n",
    "plt.ylabel('Price (USD)')\n",
    "plt.legend()\n",
    "plt.grid(True)\n",
    "plt.show()"
   ]
  },
  {
   "cell_type": "code",
   "execution_count": null,
   "id": "0520b4d7-27ed-4ff5-9c6a-52c9a921a1d9",
   "metadata": {},
   "outputs": [],
   "source": [
    "# Impact analysis\n",
    "impact_analysis = []\n",
    "for _, match in matches_df.iterrows():\n",
    "    event_date = match['event_date']\n",
    "    window_start = event_date - timedelta(days=30)\n",
    "    window_end = event_date + timedelta(days=30)\n",
    "    \n",
    "    window_prices = prices[(prices['Date'] >= window_start) & (prices['Date'] <= window_end)]\n",
    "    min_price = window_prices['Price'].min()\n",
    "    max_price = window_prices['Price'].max()\n",
    "    volatility = window_prices['Price'].std()\n",
    "    \n",
    "    impact_analysis.append({\n",
    "        'event': match['event_name'],\n",
    "        'date': event_date.strftime('%Y-%m-%d'),\n",
    "        'max_price': max_price,\n",
    "        'min_price': min_price,\n",
    "        'max_drawdown': (min_price - max_price) / max_price * 100,\n",
    "        'volatility': volatility\n",
    "    })\n",
    "\n",
    "impact_df = pd.DataFrame(impact_analysis)\n",
    "print(\"\\nImpact Analysis of Matched Events:\")\n",
    "print(impact_df.sort_values('max_drawdown'))"
   ]
  }
 ],
 "metadata": {
  "kernelspec": {
   "display_name": "Python 3 (ipykernel)",
   "language": "python",
   "name": "python3"
  },
  "language_info": {
   "codemirror_mode": {
    "name": "ipython",
    "version": 3
   },
   "file_extension": ".py",
   "mimetype": "text/x-python",
   "name": "python",
   "nbconvert_exporter": "python",
   "pygments_lexer": "ipython3",
   "version": "3.12.7"
  }
 },
 "nbformat": 4,
 "nbformat_minor": 5
}
